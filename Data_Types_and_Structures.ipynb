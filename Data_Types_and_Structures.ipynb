{
  "nbformat": 4,
  "nbformat_minor": 0,
  "metadata": {
    "colab": {
      "provenance": []
    },
    "kernelspec": {
      "name": "python3",
      "display_name": "Python 3"
    },
    "language_info": {
      "name": "python"
    }
  },
  "cells": [
    {
      "cell_type": "markdown",
      "source": [
        "# Data Types and Structures"
      ],
      "metadata": {
        "id": "9FoYCzNPkDU4"
      }
    },
    {
      "cell_type": "markdown",
      "source": [
        "1. What are data structures, and why are they important?\n",
        "  - Data structures are ways of organizing, managing, and storing data so that it can be accessed and processed efficiently. They define the layout and relationship of data within a computer's memory and allow programmers to perform operations like data insertion, deletion, search, and traversal effectively.\n",
        "    - Lists\n",
        "    - Tuples\n",
        "    - Sets\n",
        "    - Dictionaries\n",
        "\n",
        "\n",
        "2. Explain the difference between mutable and immutable data types with examples\n",
        "  - Mutable data types are those that can be changed after their creation. For example, lists and dictionaries are mutable, meaning we  can add, remove, or modify elements without creating a new object. If we have a list representing a shopping cart, we can easily add or remove items directly from that list, and the changes happen in-place. This flexibility makes mutable data types useful when we need to frequently update or modify the data during program execution.\n",
        "\n",
        "      In contrast, immutable data types cannot be altered once they are created. Any attempt to modify them results in the creation of a new object. For instance, strings and tuples are immutable; if we want to change a string, we must create a new string with the desired modifications. Think of an immutable object like a stone sculpture—it can't be changed once it's carved. Instead, to \"change\" an immutable object, we generate a new instance with the required adjustments, leaving the original unchanged. This property is advantageous when ensuring data consistency and safety, especially in multi-threaded or shared environments.  \n",
        "\n",
        "3. What are the main differences between lists and tuples in Python\n",
        "   - - Mutability\n",
        "        - Lists are mutable; their contents can be changed after creation.\n",
        "        - Tuples are immutable; once created, their contents cannot be altered.\n",
        "     - Syntax\n",
        "        - Lists are defined using square brackets, e.g., [1, 2, 3].\n",
        "        - Tuples are defined using parentheses, e.g., (1, 2, 3).\n",
        "     - Use Cases\n",
        "        -  Lists are used when a collection needs to be modified dynamically during program execution.\n",
        "        -  Tuples are used to store fixed collections of items, especially when data integrity is important.\n",
        "     - Performance and Functionality\n",
        "       - Tuples are generally faster and more memory-efficient than lists.\n",
        "       - Tuples can be used as keys in dictionaries or as elements of sets, unlike lists because of their immutability.\n",
        "\n",
        "4.  Describe how dictionaries store data\n",
        "    - Dictionaries store data using a key-value pair structure, where each unique key is associated with a specific value. When we add an item to a dictionary, we specify a key (which must be immutable, like a string, number, or tuple) and an associated value (which can be any data type). Internally, dictionaries use a technique called hashing to organize and access data efficiently. Each key is processed through a hash function that determines its position within an underlying data structure, typically a hash table. This process allows the dictionary to retrieve, insert, or modify data rapidly, often in constant time, regardless of the size of the dictionary. The use of keys ensures that data can be accessed quickly and directly without needing to search through the entire collection. This structure makes dictionaries very powerful for situations where quick lookups, updates, or associations between data are needed.\n",
        "\n",
        "5. Why might you use a set instead of a list in Python?    \n",
        "  - We might use a set instead of a list in Python to store unique items and perform fast membership tests, as sets automatically eliminate duplicates and offer near constant-time lookups. Sets are ideal for tasks like removing duplicates or doing set operations like union or intersection. However, unlike lists, sets do not maintain order and do not allow duplicates.\n",
        "\n",
        "6. What is a string in Python, and how is it different from a list?\n",
        "  - A string in Python is a sequence of characters enclosed within either single quotes (' ') or double quotes (\" \"). It is used to represent text, such as words, sentences, or any other alphanumeric data. Strings are immutable, meaning once they are created, they cannot be changed directly. On the other hand, a list is a collection of items that can include different data types like numbers, strings, or other objects, and it is mutable, allowing you to modify, add, or remove elements after creation. The main difference is that strings are specifically used for text data and are immutable, whereas lists are versatile collections that can store multiple items of various types and can be changed anytime.\n",
        "\n",
        "7. How do tuples ensure data integrity in Python?\n",
        "  - Tuples ensure data integrity in Python through their immutability, meaning once a tuple is created, its contents cannot be changed. This prevents accidental or intentional modifications, ensuring that the data stored within a tuple remains consistent and unchanged throughout the program's execution. Because of this property, tuples are often used to store fixed collections of related data that should not be altered, helping to maintain data integrity and integrity in environments where data consistency is crucial.\n",
        "\n",
        "8. What is a hash table, and how does it relate to dictionaries in Python?\n",
        "  - A hash table is a data structure that stores data using a process called hashing, where keys are processed through a hash function to determine their position within an underlying array or table. This allows for efficient data retrieval, insertion, and deletion, often in constant time. In Python, dictionaries are implemented as hash tables, meaning they use hashing to quickly associate keys with their corresponding values. This implementation allows dictionaries to perform fast lookups and updates, making them highly efficient for managing key-value pairs.\n",
        "\n",
        "9. Can lists contain different data types in Python?\n",
        "  - Yes, lists in Python can contain different data types. You can store numbers, strings, objects, or even other lists within the same list. This flexibility allows you to create complex, heterogeneous collections of data.\n",
        "\n",
        "10. Explain why strings are immutable in Python\n",
        "    - Strings are immutable in Python because they are designed to be hashable and consistent, which allows them to be used as keys in dictionaries and elements in sets. Immutability ensures that once a string is created, its content cannot be changed, preventing accidental modifications that could lead to inconsistencies or bugs. This also allows Python to optimize memory usage and improve performance, since immutable objects can be shared safely and stored efficiently.\n",
        "\n",
        "11. What advantages do dictionaries offer over lists for certain tasks?    \n",
        "  - Advantages that dictionaries have lists are\n",
        "      - Fast Lookups: Dictionaries allow for constant-time complexity (O(1)) when accessing values via keys, making lookups extremely efficient.\n",
        "      - Unique Keys: Keys in dictionaries are unique, which helps in preventing duplicate entries and ensures data integrity.\n",
        "      - Semantic Data Access: Keys can be meaningful (like strings), making code more readable and easier to understand.\n",
        "      - Flexible Data Retrieval: Dictionaries enable quick retrieval, addition, and deletion of data based on keys.\n",
        "      - Better for Associative Data: Ideal for representing relationships or associations, such as mappings between labels and data.\n",
        "      - Efficient Data Updates: Updating values associated with a specific key is straightforward and fast.\n",
        "      - Supports Complex Data Structures: Can store complex objects or nested dictionaries, creating flexible data models.\n",
        "      - Simplifies Data Management: Useful for managing large datasets where quick access and updates are required.\n",
        "\n",
        "12. Describe a scenario where using a tuple would be preferable over a list.\n",
        "    - A scenario where using a tuple would be preferable over a list is when we need to store immutable, fixed data that should not change throughout the program.  \n",
        "    \n",
        "       For example - When someone are working with geographic coordinates (latitude and longitude).\n",
        "       These coordinates are fixed once defined and should not be modified.\n",
        "       Using a tuple enforces this immutability, ensuring the data remains unchanged.  \n",
        "\n",
        "13. How do sets handle duplicate values in Python?         \n",
        "   - In Python, sets automatically handle duplicate values by ensuring that each element in the set is unique.\n",
        "      - Sets inherently store only unique values.\n",
        "      - Duplicates are automatically ignored upon insertion.\n",
        "      - Useful for removing duplicates from lists or ensuring data uniqueness.\n",
        "\n",
        "14. How does the “in” keyword work differently for lists and dictionaries?     \n",
        "    -  - The in keyword in Python is used to check for membership within a collection, but its behavior varies between lists and dictionaries. When used with a list, in checks whether a specific value exists among the list's elements. It searches through the list, and if it finds the value, it returns True; otherwise, it returns False. For example, 'apple' in ['banana', 'apple', 'orange'] would evaluate to True, indicating that 'apple' is an element of the list. This makes it easy to verify the presence of a particular item in a list collection.\n",
        "       - In contrast, when used with a dictionary, the in keyword checks whether a particular key exists in the dictionary. It does not directly check for values unless explicitly specified with methods like dict.values(). For instance, 'name' in {'name': 'John', 'age': 30} would return True because 'name' is a key in the dictionary. To check if a value exists, you need to use dict.values(), such as 'John' in my_dict.values(). This distinction is important because it clarifies how membership is evaluated depending on the data structure, affecting how you query and manipulate collections in Python.\n",
        "\n",
        "15. Can you modify the elements of a tuple? Explain why or why not?   \n",
        "    - No, we cannot modify the elements of a tuple in Python because tuples are immutable, meaning their contents can't be changed after creation. This design ensures the data remains constant, making tuples useful for fixed data. If we need to change elements, use a list instead, as lists are mutable and allow modifications whenever needed.    \n",
        "\n",
        "16. What is a nested dictionary, and give an example of its use case?    \n",
        "    - A nested dictionary in Python is a dictionary that contains other dictionaries as its values. This allows for complex data structures, where related information is organized hierarchically. For example, a nested dictionary can be used to store information about students, with each student having their own dictionary of details like name, age, and grades.\n",
        "\n",
        "          For example -\n",
        "                students = {\n",
        "                           'student1': {'name': 'Alice', 'age': 22, 'grades': {'math': 90, 'science': 85}},\n",
        "                           'student2': {'name': 'Bob', 'age': 24, 'grades': {'math': 78, 'science': 88}}\n",
        "                            }\n",
        "\n",
        "17. Describe the time complexity of accessing elements in a dictionary.\n",
        "    - Accessing elements in a Python dictionary generally has a time complexity of O(1), also known as constant time. This efficiency is because dictionaries are implemented as hash tables, which allow for fast lookups based on keys. When we access a value using a key, the hash function quickly computes the location of the value in memory, making the retrieval process very fast regardless of the size of the dictionary. However, in rare cases where hash collisions occur, the time complexity can degrade to O(n), but this is uncommon with a well-distributed hash function. Overall, under typical circumstances, dictionary lookups are highly efficient.     \n",
        "\n",
        "18. In what situations are lists preferred over dictionaries?\n",
        "    - Lists are preferred when the order of elements is important, or when duplicates are allowed, such as when maintaining a sequence of items like names or scores. They are also useful for accessing elements by their position (index). For example, a list of names or a ranking list. On the other hand, dictionaries are better for quick, key-based lookups, like retrieving a user’s information by username. Use lists for ordered data and dictionaries for fast key-based retrieval.\n",
        "\n",
        "19. Why are dictionaries considered unordered, and how does that affect data retrieval?\n",
        "    - Dictionaries are considered unordered because, they do not maintain the order of items. This means the items can appear in any sequence, depending on how the hash table organizes them internally. As a result, data retrieval by iterating over a dictionary doesn't guarantee a specific order. However, starting with Python 3.7, dictionaries preserve insertion order, so they maintain the order in which items are added, simplifying data retrieval and iteration in most cases.  \n",
        "\n",
        "20. Explain the difference between a list and a dictionary in terms of data retrieval.   \n",
        "    -\n",
        "        - List:\n",
        "            -  Accessed by index (position in the sequence).\n",
        "            -  Retrieval time is O(1) for specific index.\n",
        "            -  Suitable for ordered collections where position     matters.\n",
        "            -  Elements can be duplicated.\n",
        "\n",
        "        - Dictionary:\n",
        "            - Accessed by key (unique identifier).\n",
        "            - Retrieval time is O(1) on average due to hashing.\n",
        "            - Suitable for key-value mappings.\n",
        "            - Keys are unique; values can be duplicated.   \n",
        "            - Maintains insertion order.          \n"
      ],
      "metadata": {
        "id": "syIrkEQikMnP"
      }
    },
    {
      "cell_type": "code",
      "execution_count": 1,
      "metadata": {
        "colab": {
          "base_uri": "https://localhost:8080/"
        },
        "id": "6zsMyuwzj1kZ",
        "outputId": "8b545a63-2480-4df5-90c7-2903163f5d5f"
      },
      "outputs": [
        {
          "output_type": "stream",
          "name": "stdout",
          "text": [
            "Agnick Paul\n"
          ]
        }
      ],
      "source": [
        "# 1.Write a code to create a string with your name and print it.\n",
        "\n",
        "name=\"Agnick Paul\"\n",
        "print(name)"
      ]
    },
    {
      "cell_type": "code",
      "source": [
        "# 2.Write a code to find the length of the string \"Hello World\".\n",
        "\n",
        "string=\"Hello World\"\n",
        "print(len(string))"
      ],
      "metadata": {
        "colab": {
          "base_uri": "https://localhost:8080/"
        },
        "id": "osI-JFsU70Z9",
        "outputId": "095ef15f-d9b1-405d-909c-6bcbbf73d4fa"
      },
      "execution_count": 2,
      "outputs": [
        {
          "output_type": "stream",
          "name": "stdout",
          "text": [
            "11\n"
          ]
        }
      ]
    },
    {
      "cell_type": "code",
      "source": [
        "# 3.Write a code to slice the first 3 characters from the string \"Python Programming\".\n",
        "\n",
        "str1=\"Python Programming\"\n",
        "print(str1[0:3])"
      ],
      "metadata": {
        "colab": {
          "base_uri": "https://localhost:8080/"
        },
        "id": "0wd6Gyw48BC8",
        "outputId": "27b6137b-ef91-43d5-9b40-913601a2dbb6"
      },
      "execution_count": 3,
      "outputs": [
        {
          "output_type": "stream",
          "name": "stdout",
          "text": [
            "Pyt\n"
          ]
        }
      ]
    },
    {
      "cell_type": "code",
      "source": [
        "# 4.Write a code to convert the string \"hello\" to uppercase.\n",
        "\n",
        "str2=\"hello\"\n",
        "print(str2.upper())"
      ],
      "metadata": {
        "colab": {
          "base_uri": "https://localhost:8080/"
        },
        "id": "DoIet8UK8XXJ",
        "outputId": "c5f973e2-c65e-467b-e1b1-213e7ac8e4e7"
      },
      "execution_count": 4,
      "outputs": [
        {
          "output_type": "stream",
          "name": "stdout",
          "text": [
            "HELLO\n"
          ]
        }
      ]
    },
    {
      "cell_type": "code",
      "source": [
        "# 5.Write a code to replace the word \"apple\" with \"orange\" in the string \"I like apple\".\n",
        "\n",
        "str3=\"I like apple\"\n",
        "print(str3.replace(\"apple\",\"orange\"))"
      ],
      "metadata": {
        "colab": {
          "base_uri": "https://localhost:8080/"
        },
        "id": "doHLr9hX8mj4",
        "outputId": "b527127a-67bf-4694-da85-2d6d1d1de704"
      },
      "execution_count": 5,
      "outputs": [
        {
          "output_type": "stream",
          "name": "stdout",
          "text": [
            "I like orange\n"
          ]
        }
      ]
    },
    {
      "cell_type": "code",
      "source": [
        "# 6.Write a code to create a list with numbers 1 to 5 and print it.\n",
        "\n",
        "list1=[1,2,3,4,5]\n",
        "print(list1)"
      ],
      "metadata": {
        "colab": {
          "base_uri": "https://localhost:8080/"
        },
        "id": "MpnSS3zN858e",
        "outputId": "56d7c39d-3af5-4968-9f08-e0f0335e081d"
      },
      "execution_count": 6,
      "outputs": [
        {
          "output_type": "stream",
          "name": "stdout",
          "text": [
            "[1, 2, 3, 4, 5]\n"
          ]
        }
      ]
    },
    {
      "cell_type": "code",
      "source": [
        "# 7.Write a code to append the number 10 to the list [1, 2, 3, 4].\n",
        "\n",
        "list2=[1,2,3,4]\n",
        "list2.append(10)\n",
        "print(list2)"
      ],
      "metadata": {
        "colab": {
          "base_uri": "https://localhost:8080/"
        },
        "id": "mTmnnUVk9BfH",
        "outputId": "755fc68d-8d16-40dc-ad3e-d0d86966ff58"
      },
      "execution_count": 7,
      "outputs": [
        {
          "output_type": "stream",
          "name": "stdout",
          "text": [
            "[1, 2, 3, 4, 10]\n"
          ]
        }
      ]
    },
    {
      "cell_type": "code",
      "source": [
        "# 8.Write a code to remove the number 3 from the list [1, 2, 3, 4, 5].\n",
        "\n",
        "list3=[1,2,3,4,5]\n",
        "list3.remove(3)\n",
        "print(list3)"
      ],
      "metadata": {
        "colab": {
          "base_uri": "https://localhost:8080/"
        },
        "id": "uqTvNJ-Q9Mql",
        "outputId": "cdf0be47-5eab-4c18-aec8-c0e691f2cea2"
      },
      "execution_count": 8,
      "outputs": [
        {
          "output_type": "stream",
          "name": "stdout",
          "text": [
            "[1, 2, 4, 5]\n"
          ]
        }
      ]
    },
    {
      "cell_type": "code",
      "source": [
        "# 9.Write a code to access the second element in the list ['a', 'b', 'c', 'd'].\n",
        "\n",
        "list4=['a', 'b', 'c', 'd']\n",
        "print(list4[1])"
      ],
      "metadata": {
        "colab": {
          "base_uri": "https://localhost:8080/"
        },
        "id": "hIv6JO-r9Ucd",
        "outputId": "6e5de748-e506-4ada-b095-53de0ff0b046"
      },
      "execution_count": 9,
      "outputs": [
        {
          "output_type": "stream",
          "name": "stdout",
          "text": [
            "b\n"
          ]
        }
      ]
    },
    {
      "cell_type": "code",
      "source": [
        "# 10.Write a code to reverse the list [10, 20, 30, 40, 50].\n",
        "\n",
        "list5=[10,20,30,40,50]\n",
        "list5.reverse()\n",
        "print(list5)"
      ],
      "metadata": {
        "colab": {
          "base_uri": "https://localhost:8080/"
        },
        "id": "5E4Nup85_1n1",
        "outputId": "8ff62199-de69-48c2-bc49-f871a510330b"
      },
      "execution_count": 10,
      "outputs": [
        {
          "output_type": "stream",
          "name": "stdout",
          "text": [
            "[50, 40, 30, 20, 10]\n"
          ]
        }
      ]
    },
    {
      "cell_type": "code",
      "source": [
        "# 11.Write a code to create a tuple with the elements 100, 200, 300 and print it.\n",
        "\n",
        "tuple1=(100,200,300)\n",
        "print(tuple1)"
      ],
      "metadata": {
        "colab": {
          "base_uri": "https://localhost:8080/"
        },
        "id": "OuqGYDrUAB74",
        "outputId": "d8446f2c-a237-4f24-ad7e-2ef505266ba0"
      },
      "execution_count": 11,
      "outputs": [
        {
          "output_type": "stream",
          "name": "stdout",
          "text": [
            "(100, 200, 300)\n"
          ]
        }
      ]
    },
    {
      "cell_type": "code",
      "source": [
        "# 12.Write a code to access the second-to-last element of the tuple ('red', 'green', 'blue', 'yellow').\n",
        "\n",
        "tuple2=('red', 'green', 'blue', 'yellow')\n",
        "print(tuple2[-2])"
      ],
      "metadata": {
        "colab": {
          "base_uri": "https://localhost:8080/"
        },
        "id": "KJ-gn8avANiI",
        "outputId": "1a518ba2-674d-4be0-e075-94b897ceb6fe"
      },
      "execution_count": 12,
      "outputs": [
        {
          "output_type": "stream",
          "name": "stdout",
          "text": [
            "blue\n"
          ]
        }
      ]
    },
    {
      "cell_type": "code",
      "source": [
        "# 13.Write a code to find the minimum number in the tuple (10, 20, 5, 15).\n",
        "\n",
        "tuple3=(10,20,5,15)\n",
        "print(min(tuple3))"
      ],
      "metadata": {
        "colab": {
          "base_uri": "https://localhost:8080/"
        },
        "id": "RRhVhKV_AoVs",
        "outputId": "2e6cefbd-851f-4478-941e-361d1627028a"
      },
      "execution_count": 13,
      "outputs": [
        {
          "output_type": "stream",
          "name": "stdout",
          "text": [
            "5\n"
          ]
        }
      ]
    },
    {
      "cell_type": "code",
      "source": [
        "# 14.Write a code to find the index of the element \"cat\" in the tuple ('dog', 'cat', 'rabbit').\n",
        "\n",
        "tuple4=('dog', 'cat', 'rabbit')\n",
        "print(tuple4.index(\"cat\"))"
      ],
      "metadata": {
        "colab": {
          "base_uri": "https://localhost:8080/"
        },
        "id": "1C8hkpGkA3ml",
        "outputId": "becb3efa-f7fd-40e2-f1d6-3c84996cd1bb"
      },
      "execution_count": 14,
      "outputs": [
        {
          "output_type": "stream",
          "name": "stdout",
          "text": [
            "1\n"
          ]
        }
      ]
    },
    {
      "cell_type": "code",
      "source": [
        "# 15.Write a code to create a tuple containing three different fruits and check if \"kiwi\" is in it.\n",
        "\n",
        "tuple5=(\"apple\",\"banana\",\"orange\")\n",
        "print(\"kiwi\" in tuple5)"
      ],
      "metadata": {
        "colab": {
          "base_uri": "https://localhost:8080/"
        },
        "id": "WfvIDHEZBKEi",
        "outputId": "71784cbf-d4e8-4dc0-ed8b-ba4052c429f1"
      },
      "execution_count": 15,
      "outputs": [
        {
          "output_type": "stream",
          "name": "stdout",
          "text": [
            "False\n"
          ]
        }
      ]
    },
    {
      "cell_type": "code",
      "source": [
        "# 16.Write a code to create a set with the elements 'a', 'b', 'c' and print it.\n",
        "\n",
        "set1={'a','b','c'}\n",
        "print(set1)"
      ],
      "metadata": {
        "colab": {
          "base_uri": "https://localhost:8080/"
        },
        "id": "afadaegJBX_I",
        "outputId": "fbc5ee0a-e3ef-4494-e5b6-788a59bbe62b"
      },
      "execution_count": 16,
      "outputs": [
        {
          "output_type": "stream",
          "name": "stdout",
          "text": [
            "{'b', 'c', 'a'}\n"
          ]
        }
      ]
    },
    {
      "cell_type": "code",
      "source": [
        "# 17.Write a code to clear all elements from the set {1, 2, 3, 4, 5}.\n",
        "\n",
        "set2={1,2,3,4,5}\n",
        "set2.clear()\n",
        "print(set2)"
      ],
      "metadata": {
        "colab": {
          "base_uri": "https://localhost:8080/"
        },
        "id": "S07JPKdaBnmI",
        "outputId": "36a75a0e-ffc1-4ef2-ee35-82e8cd24cb18"
      },
      "execution_count": 17,
      "outputs": [
        {
          "output_type": "stream",
          "name": "stdout",
          "text": [
            "set()\n"
          ]
        }
      ]
    },
    {
      "cell_type": "code",
      "source": [
        "# 18.Write a code to remove the element 4 from the set {1, 2, 3, 4}.\n",
        "\n",
        "set3={1,2,3,4}\n",
        "set3.remove(4)\n",
        "print(set3)"
      ],
      "metadata": {
        "colab": {
          "base_uri": "https://localhost:8080/"
        },
        "id": "0zt-8ToEBz_g",
        "outputId": "590ba1c0-12c8-4406-832e-6f04271848ac"
      },
      "execution_count": 18,
      "outputs": [
        {
          "output_type": "stream",
          "name": "stdout",
          "text": [
            "{1, 2, 3}\n"
          ]
        }
      ]
    },
    {
      "cell_type": "code",
      "source": [
        "# 19.Write a code to find the union of two sets {1, 2, 3} and {3, 4, 5}.\n",
        "\n",
        "set4={1,2,3}\n",
        "set5={3,4,5}\n",
        "print(set4.union(set5))"
      ],
      "metadata": {
        "colab": {
          "base_uri": "https://localhost:8080/"
        },
        "id": "R7smhoG_CDqE",
        "outputId": "792da7ef-027a-4379-fe4f-55024df81829"
      },
      "execution_count": 19,
      "outputs": [
        {
          "output_type": "stream",
          "name": "stdout",
          "text": [
            "{1, 2, 3, 4, 5}\n"
          ]
        }
      ]
    },
    {
      "cell_type": "code",
      "source": [
        "# 20.Write a code to find the intersection of two sets {1, 2, 3} and {2, 3, 4}.\n",
        "\n",
        "set6={1,2,3}\n",
        "set7={2,3,4}\n",
        "print(set6.intersection(set7))"
      ],
      "metadata": {
        "colab": {
          "base_uri": "https://localhost:8080/"
        },
        "id": "xxGzLAlsCesc",
        "outputId": "5befb2ee-c8f9-428d-f51c-9e9eefb49b8a"
      },
      "execution_count": 20,
      "outputs": [
        {
          "output_type": "stream",
          "name": "stdout",
          "text": [
            "{2, 3}\n"
          ]
        }
      ]
    },
    {
      "cell_type": "code",
      "source": [
        "# 21.Write a code to create a dictionary with the keys \"name\", \"age\", and \"city\", and print it.\n",
        "\n",
        "dict1={\"name\":\"Agnick\",\"age\":22,\"city\":\"Kolkata\"}\n",
        "print(dict1)\n"
      ],
      "metadata": {
        "colab": {
          "base_uri": "https://localhost:8080/"
        },
        "id": "U2KPHJ33DdNw",
        "outputId": "28df9503-36af-4ebd-d30d-dba2da8fdf5e"
      },
      "execution_count": 21,
      "outputs": [
        {
          "output_type": "stream",
          "name": "stdout",
          "text": [
            "{'name': 'Agnick', 'age': 22, 'city': 'Kolkata'}\n"
          ]
        }
      ]
    },
    {
      "cell_type": "code",
      "source": [
        "# 22.Write a code to create a dictionary with the keys \"name\", \"age\", and \"city\", and print it.\n",
        "\n",
        "dict2={\"name\":\"Agnick\",\"age\":22,\"city\":\"Kolkata\"}\n",
        "print(dict2)"
      ],
      "metadata": {
        "colab": {
          "base_uri": "https://localhost:8080/"
        },
        "id": "cYJ1Mp_QEJJp",
        "outputId": "9195c623-01a6-4388-fb87-7c0c13267090"
      },
      "execution_count": 22,
      "outputs": [
        {
          "output_type": "stream",
          "name": "stdout",
          "text": [
            "{'name': 'Agnick', 'age': 22, 'city': 'Kolkata'}\n"
          ]
        }
      ]
    },
    {
      "cell_type": "code",
      "source": [
        " # 23.Write a code to access the value associated with the key \"name\" in the dictionary {'name': 'Alice', 'age': 30}.\n",
        "\n",
        "dict3={'name': 'Alice', 'age': 30}\n",
        "print(dict3[\"name\"])"
      ],
      "metadata": {
        "colab": {
          "base_uri": "https://localhost:8080/"
        },
        "id": "BNfrIQmYEcZh",
        "outputId": "0852ee0b-83b4-4780-9bf5-1b9b6383b722"
      },
      "execution_count": 23,
      "outputs": [
        {
          "output_type": "stream",
          "name": "stdout",
          "text": [
            "Alice\n"
          ]
        }
      ]
    },
    {
      "cell_type": "code",
      "source": [
        "# 24.Write a code to remove the key \"age\" from the dictionary {'name': 'Bob', 'age': 22, 'city': 'New York'}.\n",
        "\n",
        "dict4={'name': 'Bob', 'age': 22, 'city': 'New York'}\n",
        "dict4.pop(\"age\")\n",
        "print(dict4)"
      ],
      "metadata": {
        "colab": {
          "base_uri": "https://localhost:8080/"
        },
        "id": "N8zF8E_TEq38",
        "outputId": "492ca5a9-378d-4303-e773-37e874aee89f"
      },
      "execution_count": 24,
      "outputs": [
        {
          "output_type": "stream",
          "name": "stdout",
          "text": [
            "{'name': 'Bob', 'city': 'New York'}\n"
          ]
        }
      ]
    },
    {
      "cell_type": "code",
      "source": [
        "# 25.Write a code to check if the key \"city\" exists in the dictionary {'name': 'Alice', 'city': 'Paris'}.\n",
        "\n",
        "dict5={'name': 'Alice', 'city': 'Paris'}\n",
        "print(\"city\" in dict5)"
      ],
      "metadata": {
        "colab": {
          "base_uri": "https://localhost:8080/"
        },
        "id": "8JpN4POIFGn6",
        "outputId": "9db56eeb-31fc-4941-dd6f-5a1fe4eca39e"
      },
      "execution_count": 25,
      "outputs": [
        {
          "output_type": "stream",
          "name": "stdout",
          "text": [
            "True\n"
          ]
        }
      ]
    },
    {
      "cell_type": "code",
      "source": [
        "# 26.Write a code to create a list, a tuple, and a dictionary, and print them all.\n",
        "\n",
        "list6=[1,2,3,4,5]\n",
        "tuple6=(1,2,3,4,5)\n",
        "dict6={\"name\":\"Agnick\",\"age\":22,\"city\":\"Kolkata\"}\n",
        "print(list6)\n",
        "print(tuple6)\n",
        "print(dict6)"
      ],
      "metadata": {
        "colab": {
          "base_uri": "https://localhost:8080/"
        },
        "id": "1KX2jlumFPfS",
        "outputId": "1acf04a8-eefc-4548-cb97-c7d9daad605c"
      },
      "execution_count": 26,
      "outputs": [
        {
          "output_type": "stream",
          "name": "stdout",
          "text": [
            "[1, 2, 3, 4, 5]\n",
            "(1, 2, 3, 4, 5)\n",
            "{'name': 'Agnick', 'age': 22, 'city': 'Kolkata'}\n"
          ]
        }
      ]
    },
    {
      "cell_type": "code",
      "source": [
        "# 27.Write a code to create a list of 5 random numbers between 1 and 100, sort it in ascending order, and print the result (replaced).\n",
        "\n",
        "import random\n",
        "list7=[]\n",
        "for i in range(5):\n",
        "    list7.append(random.randint(1,100))\n",
        "list7.sort()\n",
        "print(list7)"
      ],
      "metadata": {
        "colab": {
          "base_uri": "https://localhost:8080/"
        },
        "id": "GpjHTTYBFqig",
        "outputId": "245db219-908e-4e15-ac7f-7082684551e1"
      },
      "execution_count": 27,
      "outputs": [
        {
          "output_type": "stream",
          "name": "stdout",
          "text": [
            "[4, 61, 72, 81, 89]\n"
          ]
        }
      ]
    },
    {
      "cell_type": "code",
      "source": [
        "# 28.Write a code to create a list with strings and print the element at the third index.\n",
        "\n",
        "list8=[\"apple\",\"banana\",\"orange\",\"grapes\",\"mango\"]\n",
        "print(list8[3])"
      ],
      "metadata": {
        "colab": {
          "base_uri": "https://localhost:8080/"
        },
        "id": "cV7-UZ3lGP5T",
        "outputId": "d3b2164a-fd06-4c15-d844-b5397ab3fe35"
      },
      "execution_count": 28,
      "outputs": [
        {
          "output_type": "stream",
          "name": "stdout",
          "text": [
            "grapes\n"
          ]
        }
      ]
    },
    {
      "cell_type": "code",
      "source": [
        "# 29.Write a code to combine two dictionaries into one and print the result.\n",
        "\n",
        "dict7={\"name\":\"Agnick\",\"age\":22}\n",
        "dict8={\"city\":\"Kolkata\",\"country\":\"India\"}\n",
        "dict7.update(dict8)\n",
        "print(dict7)"
      ],
      "metadata": {
        "colab": {
          "base_uri": "https://localhost:8080/"
        },
        "id": "rCvUfKOKGYst",
        "outputId": "ea423b24-f0a9-420b-a99e-4a7a0f1f20fe"
      },
      "execution_count": 29,
      "outputs": [
        {
          "output_type": "stream",
          "name": "stdout",
          "text": [
            "{'name': 'Agnick', 'age': 22, 'city': 'Kolkata', 'country': 'India'}\n"
          ]
        }
      ]
    },
    {
      "cell_type": "code",
      "source": [
        "# 30.Write a code to convert a list of strings into a set.\n",
        "\n",
        "list9=[\"apple\",\"banana\",\"orange\",\"grapes\",\"mango\"]\n",
        "set8=set(list9)\n",
        "print(set8)"
      ],
      "metadata": {
        "colab": {
          "base_uri": "https://localhost:8080/"
        },
        "id": "J3-mrJdkGyXX",
        "outputId": "0234f200-f0a4-4864-a77b-0e90b8c5facd"
      },
      "execution_count": 30,
      "outputs": [
        {
          "output_type": "stream",
          "name": "stdout",
          "text": [
            "{'apple', 'orange', 'banana', 'mango', 'grapes'}\n"
          ]
        }
      ]
    }
  ]
}